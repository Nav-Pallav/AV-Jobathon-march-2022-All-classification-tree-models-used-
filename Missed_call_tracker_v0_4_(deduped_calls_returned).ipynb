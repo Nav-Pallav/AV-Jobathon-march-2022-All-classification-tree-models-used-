{
  "nbformat": 4,
  "nbformat_minor": 0,
  "metadata": {
    "colab": {
      "name": "Missed call tracker v0.4 (deduped calls returned).ipynb",
      "provenance": [],
      "collapsed_sections": [],
      "include_colab_link": true
    },
    "kernelspec": {
      "name": "python3",
      "display_name": "Python 3"
    },
    "language_info": {
      "name": "python"
    }
  },
  "cells": [
    {
      "cell_type": "markdown",
      "metadata": {
        "id": "view-in-github",
        "colab_type": "text"
      },
      "source": [
        "<a href=\"https://colab.research.google.com/github/Nav-Pallav/AV-Jobathon-march-2022-All-classification-tree-models-used-/blob/main/Missed_call_tracker_v0_4_(deduped_calls_returned).ipynb\" target=\"_parent\"><img src=\"https://colab.research.google.com/assets/colab-badge.svg\" alt=\"Open In Colab\"/></a>"
      ]
    },
    {
      "cell_type": "code",
      "execution_count": null,
      "metadata": {
        "colab": {
          "base_uri": "https://localhost:8080/"
        },
        "id": "Ger5lR-V1NQF",
        "outputId": "fcae8e76-1a42-4999-abf1-bb744f12b697"
      },
      "outputs": [
        {
          "output_type": "stream",
          "name": "stdout",
          "text": [
            "Drive already mounted at /content/drive; to attempt to forcibly remount, call drive.mount(\"/content/drive\", force_remount=True).\n"
          ]
        }
      ],
      "source": [
        "from google.colab import drive\n",
        "drive.mount('/content/drive')"
      ]
    },
    {
      "cell_type": "code",
      "source": [
        "import pandas as pd\n",
        "import numpy as np\n",
        "import datetime\n",
        "from datetime import timedelta\n",
        "\n",
        "df=pd.read_csv(\"/content/drive/MyDrive/Hackathons/Text_summarization/Exotel Logs Inbound & Outboud- 15 Jun.csv\")\n",
        "#Test Data\n",
        "#Exotel Logs Inbound & Outboud- 15 Jun\n",
        "df=df[['CREATED_DATE','CALLER_TYPE','CALL_TYPE','CONNECTED_WITH','FROM_NUMBER']]\n",
        "df.dropna(inplace=True)\n",
        "#df=df.dropna(subset=['CREATED_DATE','APPOINTMENT'])\n",
        "df['CREATED_DATE']= pd.to_datetime(df['CREATED_DATE'])\n",
        "#df['APPOINTMENT']=df['APPOINTMENT'].astype(int)\n",
        "df=df[df['CALLER_TYPE'].isin(['Connectcustomer', 'ConnectRM'])]\n",
        "\n",
        "df['Cust_no'] = df.apply(lambda x: x['FROM_NUMBER'] if x['CALLER_TYPE'] == 'Connectcustomer' else x['CONNECTED_WITH'], axis=1).astype(int)\n",
        "df['Rep_no'] = df.apply(lambda x: x['CONNECTED_WITH'] if x['CALLER_TYPE'] == 'Connectcustomer' else x['FROM_NUMBER'], axis=1).astype(int)\n",
        "#df['APPOINTMENT']=df['Cust_no'].astype(int)\n",
        "\n",
        "reps=df.Rep_no.unique()\n",
        "rep_list=pd.DataFrame(reps, columns = ['Rep_no'])"
      ],
      "metadata": {
        "id": "CNgGLMSA1UqG"
      },
      "execution_count": null,
      "outputs": []
    },
    {
      "cell_type": "code",
      "source": [
        "incomp=df[(df['CALLER_TYPE']=='Connectcustomer') & (df['CALL_TYPE']=='incomplete')].copy()\n",
        "callbacks = df[(df['CALL_TYPE']=='completed')].copy()\n",
        "rm_failed=df[(df['CALLER_TYPE']=='ConnectRM') & (df['CALL_TYPE']=='incomplete')].copy()\n",
        "callbacks=pd.concat([callbacks, rm_failed])\n",
        "\n",
        "\n",
        "incomp = incomp.sort_values(['CREATED_DATE','Cust_no','Rep_no'],\n",
        "              ascending = [True, True,True])\n",
        "callbacks = callbacks.sort_values(['CREATED_DATE','Cust_no','Rep_no'],\n",
        "              ascending = [True, True,True])\n",
        "callbacks['call_ret_time']=callbacks['CREATED_DATE']\n",
        "callbacks['call_returned_flag']=1"
      ],
      "metadata": {
        "id": "_rhYGIK6-g0N"
      },
      "execution_count": null,
      "outputs": []
    },
    {
      "cell_type": "code",
      "source": [
        "tol = timedelta(minutes=120)\n",
        "missedcalls = pd.merge_asof(incomp,callbacks[['CREATED_DATE','Cust_no','Rep_no','call_returned_flag','call_ret_time']],on='CREATED_DATE',by=['Cust_no','Rep_no'],direction='forward',tolerance=tol)\n",
        "missedcalls.fillna(0,inplace=True)\n",
        "#out=missedcalls.groupby('Rep_no')['Cust_no'].count().reset_index().rename(columns={'Cust_no':'missed_processed'})"
      ],
      "metadata": {
        "id": "2YU6k-fkKaCc"
      },
      "execution_count": null,
      "outputs": []
    },
    {
      "cell_type": "code",
      "source": [
        "missed_raw=incomp.groupby('Rep_no')['Cust_no'].count().reset_index().rename(columns={'Cust_no':'missed_raw'})\n",
        "rec_raw_df=df[(df['CALLER_TYPE']=='Connectcustomer')].copy()\n",
        "rec_raw=rec_raw_df.groupby('Rep_no')['Cust_no'].count().reset_index().rename(columns={'Cust_no':'received_raw'})\n",
        "\n",
        "##callbacks_completed = df[(df['CALL_TYPE']=='completed')].copy()\n",
        "##callback_processed=callbacks_completed.groupby('CONNECTED_WITH')['APPOINTMENT'].count().reset_index().rename(columns={'APPOINTMENT':'callback_processed'})"
      ],
      "metadata": {
        "id": "pX27QwAoe2xZ"
      },
      "execution_count": null,
      "outputs": []
    },
    {
      "cell_type": "code",
      "source": [
        "######Missed#########\n",
        "\n",
        "tin=missedcalls[missedcalls['call_returned_flag']==0]\n",
        "\n",
        "tin=tin.sort_values(['CREATED_DATE','Cust_no','Rep_no'],\n",
        "              ascending = [True, True,True])\n",
        "tin['key']=tin['Cust_no'].astype(str) + tin['Rep_no'].astype('str')\n",
        "tin['count_flag']=0\n",
        "tin['window_end']=np.nan\n",
        "key_list=list(tin['key'].drop_duplicates())\n",
        "key_list\n",
        "tol = timedelta(minutes=120)\n",
        "\n",
        "tin_mod=pd.DataFrame()\n",
        "for key in key_list:\n",
        "  tin_fil=tin[tin['key']==key].reset_index()\n",
        "  # for index,row in tin_fil.iterrows():\n",
        "  #   print(row['Cust_no'])\n",
        "  tin_fil.loc[0,'window_end']=tin_fil.loc[0,'CREATED_DATE']+timedelta(minutes=120)\n",
        "  tin_fil.loc[0,'count_flag']=1\n",
        "  for i in range(1, len(tin_fil)):\n",
        "    if (tin_fil.loc[i-1, 'window_end'] > tin_fil.loc[i, 'CREATED_DATE']):\n",
        "      tin_fil.loc[i, 'window_end'] = tin_fil.loc[i-1, 'window_end']\n",
        "\n",
        "    else:\n",
        "      tin_fil.loc[i, 'window_end'] = tin_fil.loc[i, 'CREATED_DATE']+timedelta(minutes=120)\n",
        "      tin_fil.loc[i, 'count_flag']=1\n",
        "  tin_mod=tin_mod.append(tin_fil,ignore_index=True)\n",
        "  #tin_mod = tin_mod.append(tin_fil)\n",
        "#tin_mod=pd.concat(tin_mod)\n",
        "\n",
        "Missed_proc=tin_mod.groupby('Rep_no')['count_flag'].sum().reset_index().rename(columns={'count_flag':'missed_unret_processed'})\n",
        "\n",
        "###### Returned ###########\n",
        "\n",
        "ret=missedcalls[missedcalls['call_returned_flag']==1]\n",
        "ret.drop_duplicates(subset=['call_ret_time','Rep_no','Cust_no'], keep='last', inplace=True)\n",
        "Ret_proc=ret.groupby('Rep_no')['Cust_no'].count().reset_index().rename(columns={'Cust_no':'missed_ret_processed'})\n",
        "# tin_dup=tin.copy()\n",
        "# tin=pd.merge_asof()\n",
        "\n",
        "# missedcalls = pd.merge_asof(incomp,callbacks[['CREATED_DATE','Cust_no','Rep_no','call_returned_flag']],on='CREATED_DATE',by=['Cust_no','Rep_no'],direction='forward',tolerance=tol)\n"
      ],
      "metadata": {
        "id": "a-90dkk1zwlX",
        "outputId": "d8a9667f-e9e2-4d9e-a7fa-8825f4c3b29b",
        "colab": {
          "base_uri": "https://localhost:8080/"
        }
      },
      "execution_count": null,
      "outputs": [
        {
          "output_type": "stream",
          "name": "stderr",
          "text": [
            "/usr/local/lib/python3.7/dist-packages/pandas/util/_decorators.py:311: SettingWithCopyWarning: \n",
            "A value is trying to be set on a copy of a slice from a DataFrame\n",
            "\n",
            "See the caveats in the documentation: https://pandas.pydata.org/pandas-docs/stable/user_guide/indexing.html#returning-a-view-versus-a-copy\n",
            "  return func(*args, **kwargs)\n"
          ]
        }
      ]
    },
    {
      "cell_type": "code",
      "source": [
        "reps=rep_list.merge(Missed_proc,on='Rep_no',how='left').fillna(0)\n",
        "reps=reps.merge(missed_raw,on='Rep_no',how='left').fillna(0)\n",
        "reps=reps.merge(rec_raw,on='Rep_no',how='left').fillna(0)\n",
        "reps=reps.merge(Ret_proc,on='Rep_no',how='left').fillna(0)\n",
        "reps['missed_received_processed']=reps['missed_unret_processed']+reps['missed_ret_processed']"
      ],
      "metadata": {
        "id": "iSfkLzKrks0n"
      },
      "execution_count": null,
      "outputs": []
    },
    {
      "cell_type": "code",
      "source": [
        "reps"
      ],
      "metadata": {
        "colab": {
          "base_uri": "https://localhost:8080/",
          "height": 424
        },
        "id": "rOku3TfvCkG8",
        "outputId": "8ae57481-2715-4589-fa5e-c3f7e7794116"
      },
      "execution_count": null,
      "outputs": [
        {
          "output_type": "execute_result",
          "data": {
            "text/plain": [
              "           Rep_no  missed_unret_processed  missed_raw  received_raw  \\\n",
              "0     18002585656                    68.0       106.0        2027.0   \n",
              "1     19311506344                     0.0         0.0           0.0   \n",
              "2      9515158946                     1.0         4.0          19.0   \n",
              "3      8266994401                    11.0        16.0          35.0   \n",
              "4      9978475151                     2.0         3.0          15.0   \n",
              "...           ...                     ...         ...           ...   \n",
              "2697  19315912872                     0.0         0.0           0.0   \n",
              "2698   9315256831                     0.0         0.0           1.0   \n",
              "2699  19926803969                     0.0         0.0           0.0   \n",
              "2700   7011030984                     0.0         0.0           1.0   \n",
              "2701  18588818688                     0.0         0.0           0.0   \n",
              "\n",
              "      missed_ret_processed  missed_received_processed  \n",
              "0                     32.0                      100.0  \n",
              "1                      0.0                        0.0  \n",
              "2                      3.0                        4.0  \n",
              "3                      2.0                       13.0  \n",
              "4                      1.0                        3.0  \n",
              "...                    ...                        ...  \n",
              "2697                   0.0                        0.0  \n",
              "2698                   0.0                        0.0  \n",
              "2699                   0.0                        0.0  \n",
              "2700                   0.0                        0.0  \n",
              "2701                   0.0                        0.0  \n",
              "\n",
              "[2702 rows x 6 columns]"
            ],
            "text/html": [
              "\n",
              "  <div id=\"df-263097b6-a694-4921-97d7-fd07d5a6da92\">\n",
              "    <div class=\"colab-df-container\">\n",
              "      <div>\n",
              "<style scoped>\n",
              "    .dataframe tbody tr th:only-of-type {\n",
              "        vertical-align: middle;\n",
              "    }\n",
              "\n",
              "    .dataframe tbody tr th {\n",
              "        vertical-align: top;\n",
              "    }\n",
              "\n",
              "    .dataframe thead th {\n",
              "        text-align: right;\n",
              "    }\n",
              "</style>\n",
              "<table border=\"1\" class=\"dataframe\">\n",
              "  <thead>\n",
              "    <tr style=\"text-align: right;\">\n",
              "      <th></th>\n",
              "      <th>Rep_no</th>\n",
              "      <th>missed_unret_processed</th>\n",
              "      <th>missed_raw</th>\n",
              "      <th>received_raw</th>\n",
              "      <th>missed_ret_processed</th>\n",
              "      <th>missed_received_processed</th>\n",
              "    </tr>\n",
              "  </thead>\n",
              "  <tbody>\n",
              "    <tr>\n",
              "      <th>0</th>\n",
              "      <td>18002585656</td>\n",
              "      <td>68.0</td>\n",
              "      <td>106.0</td>\n",
              "      <td>2027.0</td>\n",
              "      <td>32.0</td>\n",
              "      <td>100.0</td>\n",
              "    </tr>\n",
              "    <tr>\n",
              "      <th>1</th>\n",
              "      <td>19311506344</td>\n",
              "      <td>0.0</td>\n",
              "      <td>0.0</td>\n",
              "      <td>0.0</td>\n",
              "      <td>0.0</td>\n",
              "      <td>0.0</td>\n",
              "    </tr>\n",
              "    <tr>\n",
              "      <th>2</th>\n",
              "      <td>9515158946</td>\n",
              "      <td>1.0</td>\n",
              "      <td>4.0</td>\n",
              "      <td>19.0</td>\n",
              "      <td>3.0</td>\n",
              "      <td>4.0</td>\n",
              "    </tr>\n",
              "    <tr>\n",
              "      <th>3</th>\n",
              "      <td>8266994401</td>\n",
              "      <td>11.0</td>\n",
              "      <td>16.0</td>\n",
              "      <td>35.0</td>\n",
              "      <td>2.0</td>\n",
              "      <td>13.0</td>\n",
              "    </tr>\n",
              "    <tr>\n",
              "      <th>4</th>\n",
              "      <td>9978475151</td>\n",
              "      <td>2.0</td>\n",
              "      <td>3.0</td>\n",
              "      <td>15.0</td>\n",
              "      <td>1.0</td>\n",
              "      <td>3.0</td>\n",
              "    </tr>\n",
              "    <tr>\n",
              "      <th>...</th>\n",
              "      <td>...</td>\n",
              "      <td>...</td>\n",
              "      <td>...</td>\n",
              "      <td>...</td>\n",
              "      <td>...</td>\n",
              "      <td>...</td>\n",
              "    </tr>\n",
              "    <tr>\n",
              "      <th>2697</th>\n",
              "      <td>19315912872</td>\n",
              "      <td>0.0</td>\n",
              "      <td>0.0</td>\n",
              "      <td>0.0</td>\n",
              "      <td>0.0</td>\n",
              "      <td>0.0</td>\n",
              "    </tr>\n",
              "    <tr>\n",
              "      <th>2698</th>\n",
              "      <td>9315256831</td>\n",
              "      <td>0.0</td>\n",
              "      <td>0.0</td>\n",
              "      <td>1.0</td>\n",
              "      <td>0.0</td>\n",
              "      <td>0.0</td>\n",
              "    </tr>\n",
              "    <tr>\n",
              "      <th>2699</th>\n",
              "      <td>19926803969</td>\n",
              "      <td>0.0</td>\n",
              "      <td>0.0</td>\n",
              "      <td>0.0</td>\n",
              "      <td>0.0</td>\n",
              "      <td>0.0</td>\n",
              "    </tr>\n",
              "    <tr>\n",
              "      <th>2700</th>\n",
              "      <td>7011030984</td>\n",
              "      <td>0.0</td>\n",
              "      <td>0.0</td>\n",
              "      <td>1.0</td>\n",
              "      <td>0.0</td>\n",
              "      <td>0.0</td>\n",
              "    </tr>\n",
              "    <tr>\n",
              "      <th>2701</th>\n",
              "      <td>18588818688</td>\n",
              "      <td>0.0</td>\n",
              "      <td>0.0</td>\n",
              "      <td>0.0</td>\n",
              "      <td>0.0</td>\n",
              "      <td>0.0</td>\n",
              "    </tr>\n",
              "  </tbody>\n",
              "</table>\n",
              "<p>2702 rows × 6 columns</p>\n",
              "</div>\n",
              "      <button class=\"colab-df-convert\" onclick=\"convertToInteractive('df-263097b6-a694-4921-97d7-fd07d5a6da92')\"\n",
              "              title=\"Convert this dataframe to an interactive table.\"\n",
              "              style=\"display:none;\">\n",
              "        \n",
              "  <svg xmlns=\"http://www.w3.org/2000/svg\" height=\"24px\"viewBox=\"0 0 24 24\"\n",
              "       width=\"24px\">\n",
              "    <path d=\"M0 0h24v24H0V0z\" fill=\"none\"/>\n",
              "    <path d=\"M18.56 5.44l.94 2.06.94-2.06 2.06-.94-2.06-.94-.94-2.06-.94 2.06-2.06.94zm-11 1L8.5 8.5l.94-2.06 2.06-.94-2.06-.94L8.5 2.5l-.94 2.06-2.06.94zm10 10l.94 2.06.94-2.06 2.06-.94-2.06-.94-.94-2.06-.94 2.06-2.06.94z\"/><path d=\"M17.41 7.96l-1.37-1.37c-.4-.4-.92-.59-1.43-.59-.52 0-1.04.2-1.43.59L10.3 9.45l-7.72 7.72c-.78.78-.78 2.05 0 2.83L4 21.41c.39.39.9.59 1.41.59.51 0 1.02-.2 1.41-.59l7.78-7.78 2.81-2.81c.8-.78.8-2.07 0-2.86zM5.41 20L4 18.59l7.72-7.72 1.47 1.35L5.41 20z\"/>\n",
              "  </svg>\n",
              "      </button>\n",
              "      \n",
              "  <style>\n",
              "    .colab-df-container {\n",
              "      display:flex;\n",
              "      flex-wrap:wrap;\n",
              "      gap: 12px;\n",
              "    }\n",
              "\n",
              "    .colab-df-convert {\n",
              "      background-color: #E8F0FE;\n",
              "      border: none;\n",
              "      border-radius: 50%;\n",
              "      cursor: pointer;\n",
              "      display: none;\n",
              "      fill: #1967D2;\n",
              "      height: 32px;\n",
              "      padding: 0 0 0 0;\n",
              "      width: 32px;\n",
              "    }\n",
              "\n",
              "    .colab-df-convert:hover {\n",
              "      background-color: #E2EBFA;\n",
              "      box-shadow: 0px 1px 2px rgba(60, 64, 67, 0.3), 0px 1px 3px 1px rgba(60, 64, 67, 0.15);\n",
              "      fill: #174EA6;\n",
              "    }\n",
              "\n",
              "    [theme=dark] .colab-df-convert {\n",
              "      background-color: #3B4455;\n",
              "      fill: #D2E3FC;\n",
              "    }\n",
              "\n",
              "    [theme=dark] .colab-df-convert:hover {\n",
              "      background-color: #434B5C;\n",
              "      box-shadow: 0px 1px 3px 1px rgba(0, 0, 0, 0.15);\n",
              "      filter: drop-shadow(0px 1px 2px rgba(0, 0, 0, 0.3));\n",
              "      fill: #FFFFFF;\n",
              "    }\n",
              "  </style>\n",
              "\n",
              "      <script>\n",
              "        const buttonEl =\n",
              "          document.querySelector('#df-263097b6-a694-4921-97d7-fd07d5a6da92 button.colab-df-convert');\n",
              "        buttonEl.style.display =\n",
              "          google.colab.kernel.accessAllowed ? 'block' : 'none';\n",
              "\n",
              "        async function convertToInteractive(key) {\n",
              "          const element = document.querySelector('#df-263097b6-a694-4921-97d7-fd07d5a6da92');\n",
              "          const dataTable =\n",
              "            await google.colab.kernel.invokeFunction('convertToInteractive',\n",
              "                                                     [key], {});\n",
              "          if (!dataTable) return;\n",
              "\n",
              "          const docLinkHtml = 'Like what you see? Visit the ' +\n",
              "            '<a target=\"_blank\" href=https://colab.research.google.com/notebooks/data_table.ipynb>data table notebook</a>'\n",
              "            + ' to learn more about interactive tables.';\n",
              "          element.innerHTML = '';\n",
              "          dataTable['output_type'] = 'display_data';\n",
              "          await google.colab.output.renderOutput(dataTable, element);\n",
              "          const docLink = document.createElement('div');\n",
              "          docLink.innerHTML = docLinkHtml;\n",
              "          element.appendChild(docLink);\n",
              "        }\n",
              "      </script>\n",
              "    </div>\n",
              "  </div>\n",
              "  "
            ]
          },
          "metadata": {},
          "execution_count": 158
        }
      ]
    },
    {
      "cell_type": "code",
      "source": [
        "reps.to_csv('/content/drive/MyDrive/Hackathons/Text_summarization/output_1weekdata_v0.4.csv')"
      ],
      "metadata": {
        "id": "0eIS2lB7LXGD"
      },
      "execution_count": null,
      "outputs": []
    }
  ]
}